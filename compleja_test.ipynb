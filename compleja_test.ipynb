{
 "cells": [
  {
   "cell_type": "code",
   "execution_count": 2,
   "metadata": {},
   "outputs": [],
   "source": [
    "import requests\n",
    "import json\n",
    "from IPython.display import display, Math, Latex\n",
    "import re"
   ]
  },
  {
   "cell_type": "code",
   "execution_count": 3,
   "metadata": {},
   "outputs": [
    {
     "data": {
      "text/plain": [
       "{'dym': {'inputEquation': '-\\\\frac{1}{n}(\\\\pi)\\\\cos(n(\\\\pi))+\\\\frac{1}{n^{2}}\\\\sin(n(\\\\pi)) - (-\\\\frac{1}{n}(-\\\\pi)\\\\cos(n(-\\\\pi))+\\\\frac{1}{n^{2}}\\\\sin(n(-\\\\pi)))',\n",
       "  'originalEquation': '-\\\\frac{1}{n}(\\\\pi)\\\\cos(n(\\\\pi))+\\\\frac{1}{n^{2}}\\\\sin(n(\\\\pi)) - (-\\\\frac{1}{n}(-\\\\pi)\\\\cos(n(-\\\\pi))+\\\\frac{1}{n^{2}}\\\\sin(n(-\\\\pi)))',\n",
       "  'outEquation': '-\\\\frac{1}{n}(π)\\\\cos(n(π))+\\\\frac{1}{n^{2}}\\\\sin(n(π))-(-\\\\frac{1}{n}(-π)\\\\cos(n(-π))+\\\\frac{1}{n^{2}}\\\\sin(n(-π))) ',\n",
       "  'dymEquation': 'f(n)=-\\\\frac{1}{n}(π)\\\\cos(n(π))+\\\\frac{1}{n^{2}}\\\\sin(n(π))-(-\\\\frac{1}{n}(-π)\\\\cos(n(-π))+\\\\frac{1}{n^{2}}\\\\sin(n(-π))) ',\n",
       "  'isTemplate': False,\n",
       "  'showDidYouMean': True,\n",
       "  'showInstead': True,\n",
       "  'origin': 'input'},\n",
       " 'dymAlternatives': [{'command': '',\n",
       "   'equation': 'f(n)=-\\\\frac{1}{n}(π)\\\\cos(n(π))+\\\\frac{1}{n^{2}}\\\\sin(n(π))-(-\\\\frac{1}{n}(-π)\\\\cos(n(-π))+\\\\frac{1}{n^{2}}\\\\sin(n(-π)))'},\n",
       "  {'command': '',\n",
       "   'equation': '\\\\frac{d}{dn}(-\\\\frac{1}{n}(π)\\\\cos(n(π))+\\\\frac{1}{n^{2}}\\\\sin(n(π))-(-\\\\frac{1}{n}(-π)\\\\cos(n(-π))+\\\\frac{1}{n^{2}}\\\\sin(n(-π))))'}],\n",
       " 'standardQuery': '-\\\\frac{1}{n}(π)\\\\cos(n(π))+\\\\frac{1}{n^{2}}\\\\sin(n(π))-(-\\\\frac{1}{n}(-π)\\\\cos(n(-π))+\\\\frac{1}{n^{2}}\\\\sin(n(-π)))',\n",
       " 'stepLang': 'es',\n",
       " 'isFromCache': False,\n",
       " 'isInNotebook': False,\n",
       " 'showVerify': True,\n",
       " 'showViewLarger': False,\n",
       " 'canonicalNotebookQuery': '-\\\\frac{1}{n}(π)\\\\cos(n(π))+\\\\frac{1}{n^{2}}\\\\sin(n(π))-(-\\\\frac{1}{n}(-π)\\\\cos(n(-π))+\\\\frac{1}{n^{2}}\\\\sin(n(-π)))',\n",
       " 'relatedProblems': [],\n",
       " 'subject': 'Algebra',\n",
       " 'topic': 'Algebra',\n",
       " 'subTopic': 'Trigonometry',\n",
       " 'solutions': [{'step_input': '-\\\\frac{1}{n}(π)\\\\cos(n(π))+\\\\frac{1}{n^{2}}\\\\sin(n(π))-(-\\\\frac{1}{n}(-π)\\\\cos(n(-π))+\\\\frac{1}{n^{2}}\\\\sin(n(-π)))',\n",
       "   'entire_result': '=-\\\\frac{2π(-1)^{n}}{n}',\n",
       "   'solvingClass': 'Solver',\n",
       "   'isInterimStep': True,\n",
       "   'isOpen': False,\n",
       "   'isShowSolutionAfterStep': True,\n",
       "   'title': {'text': {'createdText': '-\\\\frac{1}{n}(π)\\\\cos(n(π))+\\\\frac{1}{n^{2}}\\\\sin(n(π))-(-\\\\frac{1}{n}(-π)\\\\cos(n(-π))+\\\\frac{1}{n^{2}}\\\\sin(n(-π)))=-\\\\frac{2π(-1)^{n}}{n}'}},\n",
       "   'steps': [{'step_input': '-\\\\frac{1}{n}π\\\\cos(nπ)+\\\\frac{1}{n^{2}}\\\\sin(nπ)-(-\\\\frac{1}{n}(-π)\\\\cos(n(-π))+\\\\frac{1}{n^{2}}\\\\sin(n(-π)))',\n",
       "     'entire_result': '=-(\\\\sin(n(-π))\\\\frac{1}{n^{2}}-\\\\cos(n(-π))\\\\frac{1}{n}(-π))+0\\\\cdot \\\\frac{1}{n^{2}}-π\\\\cos(nπ)\\\\frac{1}{n}',\n",
       "     'isInterimStep': False,\n",
       "     'isOpen': False,\n",
       "     'isShowSolutionAfterStep': False,\n",
       "     'title': {'text': {'createdText': '\\\\mathrm{Utilizar la identidad trigonométrica básica}'}},\n",
       "     'general_rule': {'text': {'createdText': '\\\\sin(nπ)=0'}}},\n",
       "    {'step_input': '-(\\\\sin(n(-π))\\\\frac{1}{n^{2}}-\\\\cos(n(-π))\\\\frac{1}{n}(-π))+0\\\\cdot \\\\frac{1}{n^{2}}-π\\\\cos(nπ)\\\\frac{1}{n}',\n",
       "     'entire_result': '=-(\\\\sin(n(-π))\\\\frac{1}{n^{2}}-\\\\cos(n(-π))\\\\frac{1}{n}(-π))+0\\\\cdot \\\\frac{1}{n^{2}}-π(-1)^{n}\\\\frac{1}{n}',\n",
       "     'isInterimStep': False,\n",
       "     'isOpen': False,\n",
       "     'isShowSolutionAfterStep': False,\n",
       "     'title': {'text': {'createdText': '\\\\mathrm{Utilizar la identidad trigonométrica básica}'}},\n",
       "     'general_rule': {'text': {'createdText': '\\\\cos(nπ)=(-1)^{n}'}}},\n",
       "    {'entire_result': '=-(\\\\sin(-nπ)\\\\frac{1}{n^{2}}+\\\\cos(-nπ)\\\\frac{1}{n}π)+0\\\\cdot \\\\frac{1}{n^{2}}-π(-1)^{n}\\\\frac{1}{n}',\n",
       "     'isInterimStep': False,\n",
       "     'isOpen': False,\n",
       "     'isShowSolutionAfterStep': False,\n",
       "     'title': {'text': {'createdText': '\\\\mathrm{Quitar los parentesis}'}},\n",
       "     'general_rule': {'text': {'createdText': '(-a)=-a,-(-a)=a'}}},\n",
       "    {'entire_result': '=-\\\\frac{π(-1)^{n}}{n}+0\\\\cdot \\\\frac{1}{n^{2}}-π(-1)^{n}\\\\frac{1}{n}',\n",
       "     'isInterimStep': False,\n",
       "     'isOpen': False,\n",
       "     'isShowSolutionAfterStep': False,\n",
       "     'steps': [{'entire_result': '=-\\\\frac{π(-1)^{n}}{n}',\n",
       "       'solvingClass': 'Solver',\n",
       "       'interimType': 'RqHlhKqZKivYCwXvJ4/ABuhW73RXyDod4Bj03959Wm0=',\n",
       "       'isInterimStep': True,\n",
       "       'isOpen': False,\n",
       "       'isShowSolutionAfterStep': True,\n",
       "       'isLocked': True,\n",
       "       'title': {'text': {'createdText': '-(\\\\sin(-nπ)\\\\frac{1}{n^{2}}+\\\\cos(-nπ)\\\\frac{1}{n}π)=-\\\\frac{π(-1)^{n}}{n}'}},\n",
       "       'explanation': [{'createdText': '\\\\mathrm{Locked\\\\:Content}'}]}]},\n",
       "    {'interimType': 'oVnQ2HJJrq339e3qxfd+v/gId/o8h3jXu6HxhDHcias=',\n",
       "     'isInterimStep': True,\n",
       "     'isOpen': False,\n",
       "     'isShowSolutionAfterStep': True,\n",
       "     'isLocked': True,\n",
       "     'title': {'text': {'createdText': '\\\\mathrm{Simplificar}'}},\n",
       "     'explanation': [{'createdText': '\\\\mathrm{Locked\\\\:Content}'}]}]}],\n",
       " 'solutionLevel': 'PERFORMED'}"
      ]
     },
     "execution_count": 3,
     "metadata": {},
     "output_type": "execute_result"
    }
   ],
   "source": [
    "session = requests.session()\n",
    "token = session.get(\"https://es.symbolab.com/solver/step-by-step/x%5E%7B2%7D?or=input\").cookies.get_dict()[\"sy2.pub.token\"]\n",
    "response = json.loads(session.get(\"https://es.symbolab.com/pub_api/steps?subscribed=true&origin=input&language=es&query=-\\\\frac{1}{n}(\\\\pi)\\\\cos(n(\\\\pi))%2b\\\\frac{1}{n^{2}}\\\\sin(n(\\\\pi)) - (-\\\\frac{1}{n}(-\\\\pi)\\\\cos(n(-\\\\pi))%2b\\\\frac{1}{n^{2}}\\\\sin(n(-\\\\pi)))\",headers={\n",
    "    \"x-requested-with\":\"XMLHttpRequest\",\n",
    "    \"authorization\":f\"Bearer {token}\"\n",
    "}).content)\n",
    "response"
   ]
  },
  {
   "cell_type": "code",
   "execution_count": 4,
   "metadata": {},
   "outputs": [],
   "source": [
    "def evaluate(expression):\n",
    "    expression = expression.replace(\"+\",\"%2b\")\n",
    "    session = requests.session()\n",
    "    token = session.get(\"https://es.symbolab.com/solver/step-by-step/x%5E%7B2%7D?or=input\").cookies.get_dict()[\"sy2.pub.token\"]\n",
    "    response = json.loads(session.get(f\"https://es.symbolab.com/pub_api/steps?subscribed=true&origin=input&language=es&query={expression}\",headers={\n",
    "        \"x-requested-with\":\"XMLHttpRequest\",\n",
    "        \"authorization\":f\"Bearer {token}\"\n",
    "    }).content)\n",
    "    return (response['solutions'][len(response[\"solutions\"])-1][\"entire_result\"].replace(\"=\",\"\"),response[\"solutions\"][0])"
   ]
  },
  {
   "cell_type": "markdown",
   "metadata": {},
   "source": [
    "# FUNCIONES UTILES\n",
    "PORFAVOR NO BORRAR"
   ]
  },
  {
   "cell_type": "code",
   "execution_count": 5,
   "metadata": {},
   "outputs": [],
   "source": [
    "def sumatoria(ns):\n",
    "    total = 0\n",
    "    for valor in ns:\n",
    "        if type(valor) is str:\n",
    "            total += int(valor)\n",
    "        else:\n",
    "            total += valor\n",
    "    return total\n"
   ]
  },
  {
   "cell_type": "code",
   "execution_count": 6,
   "metadata": {},
   "outputs": [],
   "source": [
    "def QuitarCeros(list):\n",
    "    new = []\n",
    "    for i in list:\n",
    "        if i == \"-0\":\n",
    "            next\n",
    "        elif i == \"0\":\n",
    "            next\n",
    "        else:\n",
    "            new.append(i)\n",
    "            next\n",
    "    return new"
   ]
  },
  {
   "cell_type": "markdown",
   "metadata": {},
   "source": [
    "# Compleja"
   ]
  },
  {
   "cell_type": "code",
   "execution_count": 7,
   "metadata": {},
   "outputs": [],
   "source": [
    "global_steps = []"
   ]
  },
  {
   "cell_type": "code",
   "execution_count": 25,
   "metadata": {},
   "outputs": [],
   "source": [
    "\n",
    "request = {\n",
    "    \"tipo\":  \"\",\n",
    "    \"functions\":[\n",
    "        {\n",
    "            \"f\" : \"0\",\n",
    "            \"r1\": \"4\",\n",
    "            \"r2\": \"+\\\\infty\",\n",
    "        },\n",
    "        {\n",
    "            \"f\": \"0\",\n",
    "            \"r1\": \"0\",\n",
    "            \"r2\": \"-\\\\infty\"\n",
    "        },\n",
    "        {\n",
    "            \"f\": \"t^2-1\",\n",
    "            \"r1\": \"0\",\n",
    "            \"r2\": \"4\"\n",
    "        }\n",
    "    ]\n",
    "}\n",
    "req = request"
   ]
  },
  {
   "cell_type": "markdown",
   "metadata": {},
   "source": [
    "Esta función retorna un nuevo objeto con el que vamos a ver si la función concatena o no, para eso se necesita modificar los datos, porque si es par solo se ve media funcion, pero si no es ni para ni impar, si se hace con todos sus rangos"
   ]
  },
  {
   "cell_type": "markdown",
   "metadata": {},
   "source": [
    "##### funcion NoLess"
   ]
  },
  {
   "cell_type": "code",
   "execution_count": 9,
   "metadata": {},
   "outputs": [],
   "source": [
    "def NoLess(fun):\n",
    "    arraycov= []\n",
    "    if fun[\"tipo\"] == \"par\":\n",
    "        for entity in fun[\"functions\"]:\n",
    "            if entity[\"r1\"] == \"-\\\\infty\":\n",
    "                next\n",
    "            elif entity[\"r2\"] == \"-\\\\infty\":\n",
    "                next\n",
    "            else:\n",
    "                arraycov.append(entity.copy())\n",
    "        for i in arraycov:\n",
    "            x = re.findall(\"^-\\d+\",i[\"r1\"])\n",
    "            if len(x) > 0:\n",
    "                i[\"r1\"] = i[\"r1\"].replace(x[0],\"0\")\n",
    "    else:\n",
    "        for entity in fun[\"functions\"]:\n",
    "            arraycov.append(entity)\n",
    "    return arraycov     "
   ]
  },
  {
   "cell_type": "markdown",
   "metadata": {},
   "source": [
    "#### Validar si converge"
   ]
  },
  {
   "cell_type": "code",
   "execution_count": 10,
   "metadata": {},
   "outputs": [
    {
     "data": {
      "text/latex": [
       "$\\displaystyle \\int{{0}}dt = 0$"
      ],
      "text/plain": [
       "<IPython.core.display.Math object>"
      ]
     },
     "metadata": {},
     "output_type": "display_data"
    },
    {
     "data": {
      "text/latex": [
       "$\\displaystyle (0)-(0) = -0$"
      ],
      "text/plain": [
       "<IPython.core.display.Math object>"
      ]
     },
     "metadata": {},
     "output_type": "display_data"
    },
    {
     "data": {
      "text/latex": [
       "$\\displaystyle \\cdots $"
      ],
      "text/plain": [
       "<IPython.core.display.Math object>"
      ]
     },
     "metadata": {},
     "output_type": "display_data"
    },
    {
     "data": {
      "text/latex": [
       "$\\displaystyle \\int{{0}}dt = 0$"
      ],
      "text/plain": [
       "<IPython.core.display.Math object>"
      ]
     },
     "metadata": {},
     "output_type": "display_data"
    },
    {
     "data": {
      "text/latex": [
       "$\\displaystyle (0)-(0) = -0$"
      ],
      "text/plain": [
       "<IPython.core.display.Math object>"
      ]
     },
     "metadata": {},
     "output_type": "display_data"
    },
    {
     "data": {
      "text/latex": [
       "$\\displaystyle \\cdots $"
      ],
      "text/plain": [
       "<IPython.core.display.Math object>"
      ]
     },
     "metadata": {},
     "output_type": "display_data"
    },
    {
     "data": {
      "text/latex": [
       "$\\displaystyle \\int{{t^2-1}}dt = \\frac{t^{3}}{3}-t$"
      ],
      "text/plain": [
       "<IPython.core.display.Math object>"
      ]
     },
     "metadata": {},
     "output_type": "display_data"
    },
    {
     "data": {
      "text/latex": [
       "$\\displaystyle (\\frac{(4)^{3}}{3}-(4))-(\\frac{(0)^{3}}{3}-(0)) = \\frac{52}{3}$"
      ],
      "text/plain": [
       "<IPython.core.display.Math object>"
      ]
     },
     "metadata": {},
     "output_type": "display_data"
    },
    {
     "data": {
      "text/latex": [
       "$\\displaystyle \\cdots $"
      ],
      "text/plain": [
       "<IPython.core.display.Math object>"
      ]
     },
     "metadata": {},
     "output_type": "display_data"
    },
    {
     "data": {
      "text/plain": [
       "['-0', '-0', '\\\\frac{52}{3}']"
      ]
     },
     "execution_count": 10,
     "metadata": {},
     "output_type": "execute_result"
    }
   ],
   "source": [
    "converge_terms = []\n",
    "functions = NoLess(request)\n",
    "for function in functions:\n",
    "    f = function[\"f\"]\n",
    "    ran1 = function[\"r1\"]\n",
    "    ran2 = function[\"r2\"]\n",
    "    integral_ = \"\\\\int{{\"+f+\"}}dt\"\n",
    "    converge_expr,steps = evaluate(integral_)\n",
    "    converge_expr = converge_expr.replace(\"+C\",\"\")\n",
    "    converge_expr = converge_expr.replace(\"C\",\"0\")\n",
    "    steps[\"comment\"] = \"Obtenemos la integral para cada función\"\n",
    "    global_steps.append(steps)\n",
    "\n",
    "    #el rango\n",
    "    a = converge_expr.replace(\"t\",f\"(\"+ran2+\")\")\n",
    "    b = converge_expr.replace(\"t\",f\"(\"+ran1+\")\")\n",
    "    converge_definidaexpr = f\"(\"+a+\")-(\"+b+\")\"\n",
    "    converge_definida,steps = evaluate(converge_definidaexpr)\n",
    "    steps[\"comment\"] = \"Obtenemos la integral definida para cada función\"\n",
    "    global_steps.append(steps)\n",
    "    converge_terms.append(converge_definida)\n",
    "    display(Math(f\"{integral_} = {converge_expr}\"))\n",
    "    display(Math(f\"{converge_definidaexpr} = {converge_definida}\"))\n",
    "    display(Math(\"\\cdots \"))\n",
    "converge_terms"
   ]
  },
  {
   "cell_type": "code",
   "execution_count": 11,
   "metadata": {},
   "outputs": [
    {
     "data": {
      "text/latex": [
       "$\\displaystyle 17\\frac{1}{3}$"
      ],
      "text/plain": [
       "<IPython.core.display.Math object>"
      ]
     },
     "metadata": {},
     "output_type": "display_data"
    },
    {
     "name": "stdout",
     "output_type": "stream",
     "text": [
      "si converge\n"
     ]
    }
   ],
   "source": [
    "if request[\"tipo\"] == \"par\":\n",
    "    conv,steps = evaluate(\"2\\cdot({\"+'+'.join(converge_terms)+\"})\")\n",
    "    steps[\"comment\"] = \"Sumamos los terminos obtenidos\"\n",
    "else:\n",
    "    conv,steps = evaluate(\"\\cdot({\"+'+'.join(converge_terms)+\"})\")\n",
    "    steps[\"comment\"] = \"Sumamos los terminos obtenidos\"\n",
    "    \n",
    "match = re.search(\"(\\\\\\\\frac\\{(\\d*)\\}\\{(\\d*)})\", conv) or re.search(\"^-?\\d+(\\.\\d+)?$\", conv)\n",
    "if match: \n",
    "    display(Math(conv))\n",
    "    print(\"si converge\")\n",
    "    steps[\"comment\"] = \"La función si converge\"\n",
    "    global_steps.append(steps)\n",
    "else:\n",
    "    steps[\"comment\"] = \"La función NO converge\"\n",
    "    global_steps.append(steps)\n",
    "    print(\"NO converge\")"
   ]
  },
  {
   "cell_type": "markdown",
   "metadata": {},
   "source": [
    "### Integral compleja de Fourier"
   ]
  },
  {
   "cell_type": "code",
   "execution_count": 12,
   "metadata": {},
   "outputs": [
    {
     "data": {
      "text/latex": [
       "$\\displaystyle \\int((0)\\cdot e^{-jwt}{dt})$"
      ],
      "text/plain": [
       "<IPython.core.display.Math object>"
      ]
     },
     "metadata": {},
     "output_type": "display_data"
    },
    {
     "name": "stdout",
     "output_type": "stream",
     "text": [
      "(0)-(0)\n"
     ]
    },
    {
     "data": {
      "text/latex": [
       "$\\displaystyle \\int((0)\\cdot e^{-jwt}{dt}) = 0$"
      ],
      "text/plain": [
       "<IPython.core.display.Math object>"
      ]
     },
     "metadata": {},
     "output_type": "display_data"
    },
    {
     "data": {
      "text/latex": [
       "$\\displaystyle (0)-(0) = -0$"
      ],
      "text/plain": [
       "<IPython.core.display.Math object>"
      ]
     },
     "metadata": {},
     "output_type": "display_data"
    },
    {
     "data": {
      "text/latex": [
       "$\\displaystyle \\cdots $"
      ],
      "text/plain": [
       "<IPython.core.display.Math object>"
      ]
     },
     "metadata": {},
     "output_type": "display_data"
    },
    {
     "data": {
      "text/latex": [
       "$\\displaystyle \\int((0)\\cdot e^{-jwt}{dt})$"
      ],
      "text/plain": [
       "<IPython.core.display.Math object>"
      ]
     },
     "metadata": {},
     "output_type": "display_data"
    },
    {
     "name": "stdout",
     "output_type": "stream",
     "text": [
      "(0)-(0)\n"
     ]
    },
    {
     "data": {
      "text/latex": [
       "$\\displaystyle \\int((0)\\cdot e^{-jwt}{dt}) = 0$"
      ],
      "text/plain": [
       "<IPython.core.display.Math object>"
      ]
     },
     "metadata": {},
     "output_type": "display_data"
    },
    {
     "data": {
      "text/latex": [
       "$\\displaystyle (0)-(0) = -0$"
      ],
      "text/plain": [
       "<IPython.core.display.Math object>"
      ]
     },
     "metadata": {},
     "output_type": "display_data"
    },
    {
     "data": {
      "text/latex": [
       "$\\displaystyle \\cdots $"
      ],
      "text/plain": [
       "<IPython.core.display.Math object>"
      ]
     },
     "metadata": {},
     "output_type": "display_data"
    },
    {
     "data": {
      "text/latex": [
       "$\\displaystyle \\int((t^2-1)\\cdot e^{-jwt}{dt})$"
      ],
      "text/plain": [
       "<IPython.core.display.Math object>"
      ]
     },
     "metadata": {},
     "output_type": "display_data"
    },
    {
     "name": "stdout",
     "output_type": "stream",
     "text": [
      "(-e^{-wj(4)}\\frac{1}{wj}(-1+(4)^{2})+\\frac{2}{w^{3}j^{3}}(-wje^{-wj(4)}(4)-e^{-wj(4)}))-(-e^{-wj(0)}\\frac{1}{wj}(-1+(0)^{2})+\\frac{2}{w^{3}j^{3}}(-wje^{-wj(0)}(0)-e^{-wj(0)}))\n"
     ]
    },
    {
     "data": {
      "text/latex": [
       "$\\displaystyle \\int((t^2-1)\\cdot e^{-jwt}{dt}) = -e^{-wjt}\\frac{1}{wj}(-1+t^{2})+\\frac{2}{w^{3}j^{3}}(-wje^{-wjt}t-e^{-wjt})$"
      ],
      "text/plain": [
       "<IPython.core.display.Math object>"
      ]
     },
     "metadata": {},
     "output_type": "display_data"
    },
    {
     "data": {
      "text/latex": [
       "$\\displaystyle (-e^{-wj(4)}\\frac{1}{wj}(-1+(4)^{2})+\\frac{2}{w^{3}j^{3}}(-wje^{-wj(4)}(4)-e^{-wj(4)}))-(-e^{-wj(0)}\\frac{1}{wj}(-1+(0)^{2})+\\frac{2}{w^{3}j^{3}}(-wje^{-wj(0)}(0)-e^{-wj(0)})) = \\frac{-15e^{-4jw}-1}{jw}+\\frac{2(-4je^{-4jw}w-e^{-4jw})+2}{j^{3}w^{3}}$"
      ],
      "text/plain": [
       "<IPython.core.display.Math object>"
      ]
     },
     "metadata": {},
     "output_type": "display_data"
    },
    {
     "data": {
      "text/latex": [
       "$\\displaystyle \\cdots $"
      ],
      "text/plain": [
       "<IPython.core.display.Math object>"
      ]
     },
     "metadata": {},
     "output_type": "display_data"
    },
    {
     "data": {
      "text/plain": [
       "['-0',\n",
       " '-0',\n",
       " '\\\\frac{-15e^{-4jw}-1}{jw}+\\\\frac{2(-4je^{-4jw}w-e^{-4jw})+2}{j^{3}w^{3}}']"
      ]
     },
     "execution_count": 12,
     "metadata": {},
     "output_type": "execute_result"
    }
   ],
   "source": [
    "\n",
    "compleja_terms = []\n",
    "steps[\"comment\"] = \"Integral compleja de fourier de $f(t)$\"\n",
    "steps[\"comment\"] = \"$\\\\frac{1}{2\\\\pi}\\\\int_{-\\\\infty}^{+\\\\infty}[\\\\int_{-\\\\infty}^{+\\\\infty}{f(\\\\tau)}e^{-jw\\\\tau}{d\\\\tau}]dw$\"\n",
    "for function in request[\"functions\"]:\n",
    "    f= function[\"f\"]\n",
    "    ran1 = function[\"r1\"]\n",
    "    ran2 = function[\"r2\"]\n",
    "    #OBTENER LA EXPRESION INTEGRAL CON TAO\n",
    "    integral2__ = f\"\\\\int(({f})\\\\cdot e^{{-jwt}}{{dt}})\"\n",
    "    display(Math(f\"{integral2__}\"))\n",
    "    compleja2,steps = evaluate(integral2__)\n",
    "    compleja2= compleja2.replace(\"+C\",\"\")\n",
    "    compleja2 = compleja2.replace(\"C\",\"0\")\n",
    "    steps[\"comment\"] = \"Obtenemos la primera integral para la forma compleja\"\n",
    "\n",
    "    #Obtener la expresión definida de la integral TAO\n",
    "    a = compleja2.replace(\"t\",f\"(\"+ran2+\")\")\n",
    "    b = compleja2.replace(\"t\",f\"(\"+ran1+\")\")\n",
    "\n",
    "    compleja2_defexpr = f\"(\"+a+\")-(\"+b+\")\"\n",
    "    print(compleja2_defexpr)\n",
    "    compleja_def,steps = evaluate(compleja2_defexpr)\n",
    "    steps[\"comment\"] = \"Obtenemos la integral definida para la forma compleja\"\n",
    "    global_steps.append(steps)\n",
    "    compleja_terms.append(compleja_def)\n",
    "    display(Math(f\"{integral2__} = {compleja2}\"))\n",
    "    display(Math(f\"{compleja2_defexpr} = {compleja_def}\"))\n",
    "    display(Math(\"\\cdots \"))\n",
    "\n",
    "#Si los terminos nos dan 0\n",
    "compleja_terms\n"
   ]
  },
  {
   "cell_type": "code",
   "execution_count": 13,
   "metadata": {},
   "outputs": [
    {
     "data": {
      "text/latex": [
       "$\\displaystyle -\\frac{15e^{-4jw}}{jw}-\\frac{1}{jw}-\\frac{8e^{-4jw}}{j^{2}w^{2}}-\\frac{2e^{-4jw}}{j^{3}w^{3}}+\\frac{2}{j^{3}w^{3}}$"
      ],
      "text/plain": [
       "<IPython.core.display.Math object>"
      ]
     },
     "metadata": {},
     "output_type": "display_data"
    },
    {
     "data": {
      "text/latex": [
       "$\\displaystyle \\frac{1}{2\\pi}\\int_{-\\infty}^{+\\infty}-\\frac{15e^{-4jw}}{jw}-\\frac{1}{jw}-\\frac{8e^{-4jw}}{j^{2}w^{2}}-\\frac{2e^{-4jw}}{j^{3}w^{3}}+\\frac{2}{j^{3}w^{3}}dw$"
      ],
      "text/plain": [
       "<IPython.core.display.Math object>"
      ]
     },
     "metadata": {},
     "output_type": "display_data"
    }
   ],
   "source": [
    "compleja_terms = QuitarCeros(compleja_terms)\n",
    "compleja,steps = evaluate(\"{\"+'+'.join(compleja_terms)+\"}\")\n",
    "steps[\"comment\"] = \"Termino de la segunda integral\"\n",
    "compleja_final= \"\\\\frac{1}{2\\\\pi}\\\\int_{-\\\\infty}^{+\\\\infty}\"+compleja+\"dw\"\n",
    "global_steps.append(compleja_final)\n",
    "steps[\"comment\"] = \"Representación de la integral compleja de foutier de la función f(t)\"\n",
    "global_steps.append(steps)\n",
    "display(Math(compleja))\n",
    "display(Math(compleja_final))"
   ]
  },
  {
   "cell_type": "markdown",
   "metadata": {},
   "source": [
    "### Integral Trigonometrica"
   ]
  },
  {
   "cell_type": "markdown",
   "metadata": {},
   "source": [
    "#### Funciones utiles para la forma trigonometrica"
   ]
  },
  {
   "cell_type": "code",
   "execution_count": 23,
   "metadata": {},
   "outputs": [],
   "source": [
    "def IntegralTrigSC(text,r1,r2):\n",
    "    t = f\"\\\\int{{{f}\\\\cdot\\\\{text}(wx)dx}}\"\n",
    "    #OBTENER LA EXPRESION INTEGRAL\n",
    "    intgr__,steps = evaluate(t)\n",
    "    intgr__= intgr__.replace(\"C\",\"0\")\n",
    "    steps[\"comment\"] = \"Entonces: $\\\\int_{-\\\\infty}^{+\\\\infty}{\\\\{text}\\\\tau\\\\cdot d\\\\tau} = 0$\"\n",
    "    steps[\"comment\"] = \"Obtenemos la expresión de la integral para obtener la forma trigonometrica\"\n",
    "\n",
    "    #obtener la integral definida\n",
    "    a = intgr__.replace(\"x\",f\"({r2})\")\n",
    "    b = intgr__.replace(\"x\",f\"({r1})\")\n",
    "    intgr__defexpr = f\"({a})-({b})\"\n",
    "    intgr__def,steps = evaluate(intgr__defexpr)\n",
    "    steps[\"comment\"] = \"Obtenemos la integral definida para la forma Trigonometrica\"\n",
    "\n",
    "    display(Math(f\"{t} = {intgr__}\"))\n",
    "    display(Math(f\"{intgr__defexpr} = {intgr__def}\"))\n",
    "    display(Math(\"\\cdots \"))\n",
    "    return steps, intgr__def\n"
   ]
  },
  {
   "cell_type": "code",
   "execution_count": 27,
   "metadata": {},
   "outputs": [],
   "source": [
    "def NoImpNoPar(t,f,r1,r2):\n",
    "    intgr__expr = f\"\\\\int{{({f}){{\\\\{t}(wt)}}dt}}\"\n",
    "    __eval,steps = evaluate(intgr__expr)\n",
    "    __eval= __eval.replace(\"C\",\"0\")\n",
    "    steps[\"comment\"] = \"Obtenemos la expresión de la integral para obtener la forma trigonometrica\"\n",
    "\n",
    "    a = __eval.replace(\"t\",f\"({r2})\")\n",
    "    b = __eval.replace(\"t\",f\"({r1})\")\n",
    "    def_expr = f\"{a}-({b})\"\n",
    "    def_,steps = evaluate(def_expr)\n",
    "    steps[\"comment\"] = \"Obtenemos la integral definida para la forma Trigonometrica\"\n",
    "\n",
    "    #solo por ahora para ver que retorna\n",
    "    display(Math(f\"{intgr__expr} = {__eval}\"))\n",
    "    display(Math(f\"{def_expr} = {def_}\"))\n",
    "    display(Math(\"\\cdots \"))\n",
    "    \n",
    "    return steps,def_"
   ]
  },
  {
   "cell_type": "markdown",
   "metadata": {},
   "source": [
    "#### Realización de la forma trigonometrica"
   ]
  },
  {
   "cell_type": "code",
   "execution_count": 28,
   "metadata": {},
   "outputs": [
    {
     "data": {
      "text/latex": [
       "$\\displaystyle \\int{(0){\\cos(wt)}dt} = 0$"
      ],
      "text/plain": [
       "<IPython.core.display.Math object>"
      ]
     },
     "metadata": {},
     "output_type": "display_data"
    },
    {
     "data": {
      "text/latex": [
       "$\\displaystyle 0-(0) = -0$"
      ],
      "text/plain": [
       "<IPython.core.display.Math object>"
      ]
     },
     "metadata": {},
     "output_type": "display_data"
    },
    {
     "data": {
      "text/latex": [
       "$\\displaystyle \\cdots $"
      ],
      "text/plain": [
       "<IPython.core.display.Math object>"
      ]
     },
     "metadata": {},
     "output_type": "display_data"
    },
    {
     "data": {
      "text/latex": [
       "$\\displaystyle \\int{(0){\\sin(wt)}dt} = 0$"
      ],
      "text/plain": [
       "<IPython.core.display.Math object>"
      ]
     },
     "metadata": {},
     "output_type": "display_data"
    },
    {
     "data": {
      "text/latex": [
       "$\\displaystyle 0-(0) = -0$"
      ],
      "text/plain": [
       "<IPython.core.display.Math object>"
      ]
     },
     "metadata": {},
     "output_type": "display_data"
    },
    {
     "data": {
      "text/latex": [
       "$\\displaystyle \\cdots $"
      ],
      "text/plain": [
       "<IPython.core.display.Math object>"
      ]
     },
     "metadata": {},
     "output_type": "display_data"
    },
    {
     "data": {
      "text/latex": [
       "$\\displaystyle \\int{(0){\\cos(wt)}dt} = 0$"
      ],
      "text/plain": [
       "<IPython.core.display.Math object>"
      ]
     },
     "metadata": {},
     "output_type": "display_data"
    },
    {
     "data": {
      "text/latex": [
       "$\\displaystyle 0-(0) = -0$"
      ],
      "text/plain": [
       "<IPython.core.display.Math object>"
      ]
     },
     "metadata": {},
     "output_type": "display_data"
    },
    {
     "data": {
      "text/latex": [
       "$\\displaystyle \\cdots $"
      ],
      "text/plain": [
       "<IPython.core.display.Math object>"
      ]
     },
     "metadata": {},
     "output_type": "display_data"
    },
    {
     "data": {
      "text/latex": [
       "$\\displaystyle \\int{(0){\\sin(wt)}dt} = 0$"
      ],
      "text/plain": [
       "<IPython.core.display.Math object>"
      ]
     },
     "metadata": {},
     "output_type": "display_data"
    },
    {
     "data": {
      "text/latex": [
       "$\\displaystyle 0-(0) = -0$"
      ],
      "text/plain": [
       "<IPython.core.display.Math object>"
      ]
     },
     "metadata": {},
     "output_type": "display_data"
    },
    {
     "data": {
      "text/latex": [
       "$\\displaystyle \\cdots $"
      ],
      "text/plain": [
       "<IPython.core.display.Math object>"
      ]
     },
     "metadata": {},
     "output_type": "display_data"
    },
    {
     "data": {
      "text/latex": [
       "$\\displaystyle \\int{(t^2-1){\\cos(wt)}dt} = \\frac{1}{w}t^{2}\\sin(wt)-\\frac{2}{w}(-\\frac{1}{w}t\\cos(wt)+\\frac{1}{w^{2}}\\sin(wt))-\\frac{1}{w}\\sin(wt)+0$"
      ],
      "text/plain": [
       "<IPython.core.display.Math object>"
      ]
     },
     "metadata": {},
     "output_type": "display_data"
    },
    {
     "data": {
      "text/latex": [
       "$\\displaystyle \\frac{1}{w}(4)^{2}\\sin(w(4))-\\frac{2}{w}(-\\frac{1}{w}(4)\\cos(w(4))+\\frac{1}{w^{2}}\\sin(w(4)))-\\frac{1}{w}\\sin(w(4))+0-(\\frac{1}{w}(0)^{2}\\sin(w(0))-\\frac{2}{w}(-\\frac{1}{w}(0)\\cos(w(0))+\\frac{1}{w^{2}}\\sin(w(0)))-\\frac{1}{w}\\sin(w(0))+0) = \\frac{15\\sin(4w)}{w}-\\frac{2(\\sin(4w)-4w\\cos(4w))}{w^{3}}$"
      ],
      "text/plain": [
       "<IPython.core.display.Math object>"
      ]
     },
     "metadata": {},
     "output_type": "display_data"
    },
    {
     "data": {
      "text/latex": [
       "$\\displaystyle \\cdots $"
      ],
      "text/plain": [
       "<IPython.core.display.Math object>"
      ]
     },
     "metadata": {},
     "output_type": "display_data"
    },
    {
     "data": {
      "text/latex": [
       "$\\displaystyle \\int{(t^2-1){\\sin(wt)}dt} = \\frac{1}{w}\\cos(wt)-\\frac{1}{w}t^{2}\\cos(wt)+\\frac{2}{w^{3}}(wt\\sin(wt)+\\cos(wt))+0$"
      ],
      "text/plain": [
       "<IPython.core.display.Math object>"
      ]
     },
     "metadata": {},
     "output_type": "display_data"
    },
    {
     "data": {
      "text/latex": [
       "$\\displaystyle \\frac{1}{w}\\cos(w(4))-\\frac{1}{w}(4)^{2}\\cos(w(4))+\\frac{2}{w^{3}}(w(4)\\sin(w(4))+\\cos(w(4)))+0-(\\frac{1}{w}\\cos(w(0))-\\frac{1}{w}(0)^{2}\\cos(w(0))+\\frac{2}{w^{3}}(w(0)\\sin(w(0))+\\cos(w(0)))+0) = \\frac{2(4w\\sin(4w)+\\cos(4w))-2}{w^{3}}+\\frac{-15\\cos(4w)-1}{w}$"
      ],
      "text/plain": [
       "<IPython.core.display.Math object>"
      ]
     },
     "metadata": {},
     "output_type": "display_data"
    },
    {
     "data": {
      "text/latex": [
       "$\\displaystyle \\cdots $"
      ],
      "text/plain": [
       "<IPython.core.display.Math object>"
      ]
     },
     "metadata": {},
     "output_type": "display_data"
    },
    {
     "name": "stdout",
     "output_type": "stream",
     "text": [
      "['-0', '-0', '-0', '-0', '\\\\frac{15\\\\sin(4w)}{w}-\\\\frac{2(\\\\sin(4w)-4w\\\\cos(4w))}{w^{3}}', '\\\\frac{2(4w\\\\sin(4w)+\\\\cos(4w))-2}{w^{3}}+\\\\frac{-15\\\\cos(4w)-1}{w}']\n"
     ]
    }
   ],
   "source": [
    "intgr_trig = []\n",
    "if request[\"tipo\"] == \"par\":\n",
    "    for function  in request[\"functions\"]:\n",
    "        f= function[\"f\"]\n",
    "        ran1 = function[\"r1\"]\n",
    "        ran2 = function[\"r2\"]\n",
    "        c = 'cos'\n",
    "        stp, int_f = IntegralTrigSC(c,ran1,ran2)\n",
    "        global_steps.append(stp)\n",
    "        intgr_trig.append(int_f)\n",
    "elif request[\"tipo\"] ==\"impar\":\n",
    "    for function  in request[\"functions\"]:\n",
    "        f= function[\"f\"]\n",
    "        ran1 = function[\"r1\"]\n",
    "        ran2 = function[\"r2\"]\n",
    "        s = 'sin'\n",
    "        stp, int_f = IntegralTrigSC(s,ran1,ran2)\n",
    "        global_steps.append(stp)\n",
    "        intgr_trig.append(int_f)\n",
    "else: \n",
    "    for function in request[\"functions\"]:\n",
    "        f= function[\"f\"]\n",
    "        ran1 = function[\"r1\"]\n",
    "        ran2 = function[\"r2\"]\n",
    "\n",
    "        c = \"cos\"\n",
    "        stpc, int_fc = NoImpNoPar(c,f,ran1,ran2)\n",
    "        global_steps.append(stpc)\n",
    "        intgr_trig.append(int_fc)\n",
    "\n",
    "        s = \"sin\"\n",
    "        stps, int_fs = NoImpNoPar(s,f,ran1,ran2)\n",
    "        global_steps.append(stps)\n",
    "        intgr_trig.append(int_fs)  \n",
    "print(intgr_trig)\n"
   ]
  },
  {
   "cell_type": "code",
   "execution_count": 30,
   "metadata": {},
   "outputs": [
    {
     "data": {
      "text/latex": [
       "$\\displaystyle \\frac{ 2 }{\\pi}[\\int_0^{+\\infty}{\\frac{15\\sin(4w)}{w}-\\frac{2(\\sin(4w)-4w\\cos(4w))}{w^{3}}}{\\cos(tw)}dw+\\int_0^{+\\infty}{\\frac{2(4w\\sin(4w)+\\cos(4w))-2}{w^{3}}+\\frac{-15\\cos(4w)-1}{w}}{\\sin(tw)}dw]$"
      ],
      "text/plain": [
       "<IPython.core.display.Math object>"
      ]
     },
     "metadata": {},
     "output_type": "display_data"
    }
   ],
   "source": [
    "\n",
    "if request[\"tipo\"] == \"par\":\n",
    "    forma_trig,steps = evaluate(\"{\"+'+'.join(intgr_trig)+\"}\")\n",
    "    formatrig_final= f\"\\\\frac{{ 2 }}{{\\\\pi}}\\\\int_{0}^{{+\\\\infty}}{{{forma_trig}}}{{\\\\cos(tw)}}dw\"\n",
    "    steps[\"comment\"] = \"Forma trigonometrica de la integral de Fourier\"\n",
    "\n",
    "elif request[\"tipo\"] == \"impar\":\n",
    "    forma_trig,steps = evaluate(\"{\"+'+'.join(intgr_trig)+\"}\")\n",
    "    formatrig_final= f\"\\\\frac{{ 2 }}{{\\\\pi}}\\\\int_{0}^{{+\\\\infty}}{{{forma_trig}}}{{\\\\sin(tw)}}dw\"\n",
    "    steps[\"comment\"] = \"Forma trigonometrica de la integral de Fourier\"\n",
    "\n",
    "else:\n",
    "    intgr_trig = QuitarCeros(intgr_trig)\n",
    "    formatrig_final= f\"\\\\frac{{ 2 }}{{\\\\pi}}[\\\\int_{0}^{{+\\\\infty}}{{{intgr_trig[0]}}}{{\\\\cos(tw)}}dw+\\\\int_{0}^{{+\\\\infty}}{{{intgr_trig[1]}}}{{\\\\sin(tw)}}dw]\"\n",
    "steps[\"comment\"] = \"Forma trigonometrica de la integral de Fourier\"\n",
    "global_steps.append(formatrig_final)\n",
    "display(Math(formatrig_final))"
   ]
  },
  {
   "cell_type": "code",
   "execution_count": null,
   "metadata": {},
   "outputs": [],
   "source": []
  }
 ],
 "metadata": {
  "interpreter": {
   "hash": "64bc7a045511d70f24bcbacd0b476d6db2c397a5d8e58ccd2b3576b906af12b8"
  },
  "kernelspec": {
   "display_name": "Python 3.9.7 64-bit",
   "name": "python3"
  },
  "language_info": {
   "codemirror_mode": {
    "name": "ipython",
    "version": 3
   },
   "file_extension": ".py",
   "mimetype": "text/x-python",
   "name": "python",
   "nbconvert_exporter": "python",
   "pygments_lexer": "ipython3",
   "version": "3.9.7"
  },
  "orig_nbformat": 4
 },
 "nbformat": 4,
 "nbformat_minor": 2
}
