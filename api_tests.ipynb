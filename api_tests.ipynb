{
 "cells": [
  {
   "cell_type": "code",
   "execution_count": 21,
   "metadata": {},
   "outputs": [],
   "source": [
    "import requests\n",
    "import json\n",
    "from IPython.display import display, Math, Latex"
   ]
  },
  {
   "cell_type": "markdown",
   "metadata": {},
   "source": [
    "## Sent a request"
   ]
  },
  {
   "cell_type": "code",
   "execution_count": 3,
   "metadata": {},
   "outputs": [
    {
     "data": {
      "text/plain": [
       "{'dym': {'inputEquation': '-\\\\frac{1}{n}(\\\\pi)\\\\cos(n(\\\\pi))+\\\\frac{1}{n^{2}}\\\\sin(n(\\\\pi)) - (-\\\\frac{1}{n}(-\\\\pi)\\\\cos(n(-\\\\pi))+\\\\frac{1}{n^{2}}\\\\sin(n(-\\\\pi)))',\n",
       "  'originalEquation': '-\\\\frac{1}{n}(\\\\pi)\\\\cos(n(\\\\pi))+\\\\frac{1}{n^{2}}\\\\sin(n(\\\\pi)) - (-\\\\frac{1}{n}(-\\\\pi)\\\\cos(n(-\\\\pi))+\\\\frac{1}{n^{2}}\\\\sin(n(-\\\\pi)))',\n",
       "  'outEquation': '-\\\\frac{1}{n}(π)\\\\cos(n(π))+\\\\frac{1}{n^{2}}\\\\sin(n(π))-(-\\\\frac{1}{n}(-π)\\\\cos(n(-π))+\\\\frac{1}{n^{2}}\\\\sin(n(-π))) ',\n",
       "  'dymEquation': 'f(n)=-\\\\frac{1}{n}(π)\\\\cos(n(π))+\\\\frac{1}{n^{2}}\\\\sin(n(π))-(-\\\\frac{1}{n}(-π)\\\\cos(n(-π))+\\\\frac{1}{n^{2}}\\\\sin(n(-π))) ',\n",
       "  'isTemplate': False,\n",
       "  'showDidYouMean': True,\n",
       "  'showInstead': True,\n",
       "  'origin': 'input'},\n",
       " 'dymAlternatives': [{'command': '',\n",
       "   'equation': 'f(n)=-\\\\frac{1}{n}(π)\\\\cos(n(π))+\\\\frac{1}{n^{2}}\\\\sin(n(π))-(-\\\\frac{1}{n}(-π)\\\\cos(n(-π))+\\\\frac{1}{n^{2}}\\\\sin(n(-π)))'},\n",
       "  {'command': '',\n",
       "   'equation': '\\\\frac{d}{dn}(-\\\\frac{1}{n}(π)\\\\cos(n(π))+\\\\frac{1}{n^{2}}\\\\sin(n(π))-(-\\\\frac{1}{n}(-π)\\\\cos(n(-π))+\\\\frac{1}{n^{2}}\\\\sin(n(-π))))'}],\n",
       " 'standardQuery': '-\\\\frac{1}{n}(π)\\\\cos(n(π))+\\\\frac{1}{n^{2}}\\\\sin(n(π))-(-\\\\frac{1}{n}(-π)\\\\cos(n(-π))+\\\\frac{1}{n^{2}}\\\\sin(n(-π)))',\n",
       " 'stepLang': 'es',\n",
       " 'isFromCache': False,\n",
       " 'isInNotebook': False,\n",
       " 'showVerify': True,\n",
       " 'showViewLarger': False,\n",
       " 'canonicalNotebookQuery': '-\\\\frac{1}{n}(π)\\\\cos(n(π))+\\\\frac{1}{n^{2}}\\\\sin(n(π))-(-\\\\frac{1}{n}(-π)\\\\cos(n(-π))+\\\\frac{1}{n^{2}}\\\\sin(n(-π)))',\n",
       " 'relatedProblems': [],\n",
       " 'subject': 'Algebra',\n",
       " 'topic': 'Algebra',\n",
       " 'subTopic': 'Trigonometry',\n",
       " 'solutions': [{'step_input': '-\\\\frac{1}{n}(π)\\\\cos(n(π))+\\\\frac{1}{n^{2}}\\\\sin(n(π))-(-\\\\frac{1}{n}(-π)\\\\cos(n(-π))+\\\\frac{1}{n^{2}}\\\\sin(n(-π)))',\n",
       "   'entire_result': '=-\\\\frac{2π(-1)^{n}}{n}',\n",
       "   'solvingClass': 'Solver',\n",
       "   'isInterimStep': True,\n",
       "   'isOpen': False,\n",
       "   'isShowSolutionAfterStep': True,\n",
       "   'title': {'text': {'createdText': '-\\\\frac{1}{n}(π)\\\\cos(n(π))+\\\\frac{1}{n^{2}}\\\\sin(n(π))-(-\\\\frac{1}{n}(-π)\\\\cos(n(-π))+\\\\frac{1}{n^{2}}\\\\sin(n(-π)))=-\\\\frac{2π(-1)^{n}}{n}'}},\n",
       "   'steps': [{'step_input': '-\\\\frac{1}{n}π\\\\cos(nπ)+\\\\frac{1}{n^{2}}\\\\sin(nπ)-(-\\\\frac{1}{n}(-π)\\\\cos(n(-π))+\\\\frac{1}{n^{2}}\\\\sin(n(-π)))',\n",
       "     'entire_result': '=-(\\\\sin(n(-π))\\\\frac{1}{n^{2}}-\\\\cos(n(-π))\\\\frac{1}{n}(-π))+0\\\\cdot \\\\frac{1}{n^{2}}-π\\\\cos(nπ)\\\\frac{1}{n}',\n",
       "     'isInterimStep': False,\n",
       "     'isOpen': False,\n",
       "     'isShowSolutionAfterStep': False,\n",
       "     'title': {'text': {'createdText': '\\\\mathrm{Utilizar la identidad trigonométrica básica}'}},\n",
       "     'general_rule': {'text': {'createdText': '\\\\sin(nπ)=0'}}},\n",
       "    {'step_input': '-(\\\\sin(n(-π))\\\\frac{1}{n^{2}}-\\\\cos(n(-π))\\\\frac{1}{n}(-π))+0\\\\cdot \\\\frac{1}{n^{2}}-π\\\\cos(nπ)\\\\frac{1}{n}',\n",
       "     'entire_result': '=-(\\\\sin(n(-π))\\\\frac{1}{n^{2}}-\\\\cos(n(-π))\\\\frac{1}{n}(-π))+0\\\\cdot \\\\frac{1}{n^{2}}-π(-1)^{n}\\\\frac{1}{n}',\n",
       "     'isInterimStep': False,\n",
       "     'isOpen': False,\n",
       "     'isShowSolutionAfterStep': False,\n",
       "     'title': {'text': {'createdText': '\\\\mathrm{Utilizar la identidad trigonométrica básica}'}},\n",
       "     'general_rule': {'text': {'createdText': '\\\\cos(nπ)=(-1)^{n}'}}},\n",
       "    {'entire_result': '=-(\\\\sin(-nπ)\\\\frac{1}{n^{2}}+\\\\cos(-nπ)\\\\frac{1}{n}π)+0\\\\cdot \\\\frac{1}{n^{2}}-π(-1)^{n}\\\\frac{1}{n}',\n",
       "     'isInterimStep': False,\n",
       "     'isOpen': False,\n",
       "     'isShowSolutionAfterStep': False,\n",
       "     'title': {'text': {'createdText': '\\\\mathrm{Quitar los parentesis}'}},\n",
       "     'general_rule': {'text': {'createdText': '(-a)=-a,-(-a)=a'}}},\n",
       "    {'entire_result': '=-\\\\frac{π(-1)^{n}}{n}+0\\\\cdot \\\\frac{1}{n^{2}}-π(-1)^{n}\\\\frac{1}{n}',\n",
       "     'isInterimStep': False,\n",
       "     'isOpen': False,\n",
       "     'isShowSolutionAfterStep': False,\n",
       "     'steps': [{'entire_result': '=-\\\\frac{π(-1)^{n}}{n}',\n",
       "       'solvingClass': 'Solver',\n",
       "       'interimType': 'RqHlhKqZKivYCwXvJ4/ABuhW73RXyDod4Bj03959Wm0=',\n",
       "       'isInterimStep': True,\n",
       "       'isOpen': False,\n",
       "       'isShowSolutionAfterStep': True,\n",
       "       'isLocked': True,\n",
       "       'title': {'text': {'createdText': '-(\\\\sin(-nπ)\\\\frac{1}{n^{2}}+\\\\cos(-nπ)\\\\frac{1}{n}π)=-\\\\frac{π(-1)^{n}}{n}'}},\n",
       "       'explanation': [{'createdText': '\\\\mathrm{Locked\\\\:Content}'}]}]},\n",
       "    {'interimType': 'oVnQ2HJJrq339e3qxfd+v/gId/o8h3jXu6HxhDHcias=',\n",
       "     'isInterimStep': True,\n",
       "     'isOpen': False,\n",
       "     'isShowSolutionAfterStep': True,\n",
       "     'isLocked': True,\n",
       "     'title': {'text': {'createdText': '\\\\mathrm{Simplificar}'}},\n",
       "     'explanation': [{'createdText': '\\\\mathrm{Locked\\\\:Content}'}]}]}],\n",
       " 'solutionLevel': 'PERFORMED'}"
      ]
     },
     "execution_count": 3,
     "metadata": {},
     "output_type": "execute_result"
    }
   ],
   "source": [
    "session = requests.session()\n",
    "token = session.get(\"https://es.symbolab.com/solver/step-by-step/x%5E%7B2%7D?or=input\").cookies.get_dict()[\"sy2.pub.token\"]\n",
    "response = json.loads(session.get(\"https://es.symbolab.com/pub_api/steps?subscribed=true&origin=input&language=es&query=-\\\\frac{1}{n}(\\\\pi)\\\\cos(n(\\\\pi))%2b\\\\frac{1}{n^{2}}\\\\sin(n(\\\\pi)) - (-\\\\frac{1}{n}(-\\\\pi)\\\\cos(n(-\\\\pi))%2b\\\\frac{1}{n^{2}}\\\\sin(n(-\\\\pi)))\",headers={\n",
    "    \"x-requested-with\":\"XMLHttpRequest\",\n",
    "    \"authorization\":f\"Bearer {token}\"\n",
    "}).content)\n",
    "response"
   ]
  },
  {
   "cell_type": "code",
   "execution_count": 4,
   "metadata": {},
   "outputs": [],
   "source": [
    "def evaluate(expression):\n",
    "    expression = expression.replace(\"+\",\"%2b\")\n",
    "    session = requests.session()\n",
    "    token = session.get(\"https://es.symbolab.com/solver/step-by-step/x%5E%7B2%7D?or=input\").cookies.get_dict()[\"sy2.pub.token\"]\n",
    "    response = json.loads(session.get(f\"https://es.symbolab.com/pub_api/steps?subscribed=true&origin=input&language=es&query={expression}\",headers={\n",
    "        \"x-requested-with\":\"XMLHttpRequest\",\n",
    "        \"authorization\":f\"Bearer {token}\"\n",
    "    }).content)\n",
    "    return (response[\"solutions\"][len(response[\"solutions\"])-1][\"entire_result\"].replace(\"=\",\"\"),response[\"solutions\"][0])"
   ]
  },
  {
   "cell_type": "markdown",
   "metadata": {},
   "source": [
    "## Sent a group of requests"
   ]
  },
  {
   "cell_type": "code",
   "execution_count": 5,
   "metadata": {},
   "outputs": [],
   "source": [
    "global_steps = []"
   ]
  },
  {
   "cell_type": "markdown",
   "metadata": {},
   "source": [
    "### Fourier Series"
   ]
  },
  {
   "cell_type": "code",
   "execution_count": 6,
   "metadata": {},
   "outputs": [],
   "source": [
    "f = \"t\"\n",
    "d = \"-\\\\pi\"\n",
    "d_plus_T =\"\\\\pi\" \n",
    "T =\"2\\\\pi\"\n",
    "omega,steps = evaluate(f\"\\\\frac{{ 2\\\\pi }}{{ {T} }}\")\n",
    "request = {\n",
    "    \"functions\":[\n",
    "        {\n",
    "            \"f\":\"-\\\\pi\",\n",
    "            \"d\":\"-\\\\pi\",\n",
    "            \"d_plus_T\":\"0\"\n",
    "        },\n",
    "        {\n",
    "            \"f\":\"t\",\n",
    "            \"d\":\"0\",\n",
    "            \"d_plus_T\":\"\\\\pi\"\n",
    "        }\n",
    "    ]\n",
    "}"
   ]
  },
  {
   "cell_type": "markdown",
   "metadata": {},
   "source": [
    "#### Get a0"
   ]
  },
  {
   "cell_type": "markdown",
   "metadata": {},
   "source": [
    "evaluate a0 main integral"
   ]
  },
  {
   "cell_type": "code",
   "execution_count": 7,
   "metadata": {},
   "outputs": [],
   "source": [
    "a0_integral_expr, steps = evaluate(f\"\\\\int{{ {f} }}dt\")\n",
    "a0_integral_expr = a0_integral_expr.replace(\"+C\", \"\")\n",
    "steps[\"comment\"] = \"Obtenemos la integral de $$a_0$$\"\n",
    "global_steps.append(steps)"
   ]
  },
  {
   "cell_type": "markdown",
   "metadata": {},
   "source": [
    "evaluate definite integral"
   ]
  },
  {
   "cell_type": "code",
   "execution_count": 8,
   "metadata": {},
   "outputs": [],
   "source": [
    "a = a0_integral_expr.replace(\"t\", f\"({d_plus_T})\")\n",
    "b = a0_integral_expr.replace(\"t\", f\"({d})\")\n",
    "a0_dintegral_expr = f\"{a} - ({b})\"\n",
    "a0_dintegral, steps = evaluate(a0_dintegral_expr)\n",
    "steps[\"comment\"] = f\"Obtenemos la integral definida de $$a_0$$ en el intervalo $${d} \\\\rightarrow {d_plus_T}$$\"\n",
    "global_steps.append(steps)"
   ]
  },
  {
   "cell_type": "markdown",
   "metadata": {},
   "source": [
    "v2"
   ]
  },
  {
   "cell_type": "code",
   "execution_count": 33,
   "metadata": {},
   "outputs": [
    {
     "data": {
      "text/latex": [
       "$\\displaystyle \\int{ -\\pi }dt = -πt$"
      ],
      "text/plain": [
       "<IPython.core.display.Math object>"
      ]
     },
     "metadata": {},
     "output_type": "display_data"
    },
    {
     "data": {
      "text/latex": [
       "$\\displaystyle -π(0) - (-π(-\\pi)) = -π^{2}$"
      ],
      "text/plain": [
       "<IPython.core.display.Math object>"
      ]
     },
     "metadata": {},
     "output_type": "display_data"
    },
    {
     "data": {
      "text/latex": [
       "$\\displaystyle \\cdots $"
      ],
      "text/plain": [
       "<IPython.core.display.Math object>"
      ]
     },
     "metadata": {},
     "output_type": "display_data"
    },
    {
     "data": {
      "text/latex": [
       "$\\displaystyle \\int{ t }dt = \\frac{t^{2}}{2}$"
      ],
      "text/plain": [
       "<IPython.core.display.Math object>"
      ]
     },
     "metadata": {},
     "output_type": "display_data"
    },
    {
     "data": {
      "text/latex": [
       "$\\displaystyle \\frac{(\\pi)^{2}}{2} - (\\frac{(0)^{2}}{2}) = \\frac{π^{2}}{2}$"
      ],
      "text/plain": [
       "<IPython.core.display.Math object>"
      ]
     },
     "metadata": {},
     "output_type": "display_data"
    },
    {
     "data": {
      "text/latex": [
       "$\\displaystyle \\cdots $"
      ],
      "text/plain": [
       "<IPython.core.display.Math object>"
      ]
     },
     "metadata": {},
     "output_type": "display_data"
    },
    {
     "data": {
      "text/plain": [
       "['-π^{2}', '\\\\frac{π^{2}}{2}']"
      ]
     },
     "execution_count": 33,
     "metadata": {},
     "output_type": "execute_result"
    }
   ],
   "source": [
    "a0_terms = []\n",
    "for function in request[\"functions\"]:\n",
    "    f = function[\"f\"]\n",
    "    d = function[\"d\"]\n",
    "    d_plus_T = function[\"d_plus_T\"]\n",
    "    # OBTENER EXPRESION INTEGRAL \n",
    "    integral__ =f\"\\\\int{{ {f} }}dt\"\n",
    "    a0_integral_expr, steps = evaluate(integral__)\n",
    "    a0_integral_expr = a0_integral_expr.replace(\"+C\", \"\")\n",
    "    steps[\"comment\"] = \"Obtenemos la integral de $$a_0$$\"\n",
    "    global_steps.append(steps)\n",
    "\n",
    "    # OBTENER INTEGRAL DEFINIDA DEL RANGO\n",
    "    a = a0_integral_expr.replace(\"t\", f\"({d_plus_T})\")\n",
    "    b = a0_integral_expr.replace(\"t\", f\"({d})\")\n",
    "    a0_dintegral_expr = f\"{a} - ({b})\"\n",
    "    a0_dintegral, steps = evaluate(a0_dintegral_expr)\n",
    "    steps[\"comment\"] = f\"Obtenemos la integral definida de $$a_0$$ en el intervalo $${d} \\\\rightarrow {d_plus_T}$$\"\n",
    "    global_steps.append(steps)\n",
    "    a0_terms.append(a0_dintegral)\n",
    "    display(Math(f\"{integral__} = {a0_integral_expr}\"))\n",
    "    display(Math(f\"{a0_dintegral_expr} = {a0_dintegral}\"))\n",
    "    display(Math(\"\\cdots \"))\n",
    "a0_terms"
   ]
  },
  {
   "cell_type": "markdown",
   "metadata": {},
   "source": [
    "get final a0"
   ]
  },
  {
   "cell_type": "code",
   "execution_count": 10,
   "metadata": {},
   "outputs": [],
   "source": [
    "a0, steps = evaluate(f\"\\\\frac{{ 2 }}{{ {T} }} \\cdot ({ '+'.join(a0_terms) })\")\n",
    "steps[\"comment\"] = f\"Obtenemos $$a_0$$ final\"\n",
    "global_steps.append(steps)"
   ]
  },
  {
   "cell_type": "code",
   "execution_count": null,
   "metadata": {},
   "outputs": [],
   "source": []
  },
  {
   "cell_type": "markdown",
   "metadata": {},
   "source": [
    "#### Get an"
   ]
  },
  {
   "cell_type": "markdown",
   "metadata": {},
   "source": [
    "evaluate an main integral"
   ]
  },
  {
   "cell_type": "code",
   "execution_count": 11,
   "metadata": {},
   "outputs": [],
   "source": [
    "an_integral_expr, steps = evaluate(f\"\\\\int{{({f}) \\\\cdot cos(n \\\\cdot {omega} t) }}dt\")\n",
    "an_integral_expr = an_integral_expr.replace(\"+C\", \"\")\n",
    "steps[\"comment\"] = \"Obtenemos la integral de $$a_n$$\"\n",
    "global_steps.append(steps)"
   ]
  },
  {
   "cell_type": "markdown",
   "metadata": {},
   "source": [
    "evaluate definite integral"
   ]
  },
  {
   "cell_type": "code",
   "execution_count": 12,
   "metadata": {},
   "outputs": [],
   "source": [
    "a = an_integral_expr.replace(\"t\", f\"({d_plus_T})\")\n",
    "b = an_integral_expr.replace(\"t\", f\"({d})\")\n",
    "an_dintegral_expr = f\"{a} - ({b})\"\n",
    "an_dintegral, steps = evaluate(an_dintegral_expr)\n",
    "steps[\"comment\"] = f\"Obtenemos la integral definida de $$a_n$$ en el intervalo $${d} \\\\rightarrow {d_plus_T}$$\"\n",
    "global_steps.append(steps)"
   ]
  },
  {
   "cell_type": "code",
   "execution_count": 32,
   "metadata": {},
   "outputs": [
    {
     "data": {
      "text/latex": [
       "$\\displaystyle \\int{(-\\pi) \\cdot cos(n \\cdot 1 t) }dt = -\\frac{π}{n}\\sin(nt)$"
      ],
      "text/plain": [
       "<IPython.core.display.Math object>"
      ]
     },
     "metadata": {},
     "output_type": "display_data"
    },
    {
     "data": {
      "text/latex": [
       "$\\displaystyle -\\frac{π}{n}\\sin(n(0)) - (-\\frac{π}{n}\\sin(n(-\\pi))) = 0$"
      ],
      "text/plain": [
       "<IPython.core.display.Math object>"
      ]
     },
     "metadata": {},
     "output_type": "display_data"
    },
    {
     "data": {
      "text/latex": [
       "$\\displaystyle \\cdots $"
      ],
      "text/plain": [
       "<IPython.core.display.Math object>"
      ]
     },
     "metadata": {},
     "output_type": "display_data"
    },
    {
     "data": {
      "text/latex": [
       "$\\displaystyle \\int{(t) \\cdot cos(n \\cdot 1 t) }dt = \\frac{1}{n^{2}}(nt\\sin(nt)+\\cos(nt))$"
      ],
      "text/plain": [
       "<IPython.core.display.Math object>"
      ]
     },
     "metadata": {},
     "output_type": "display_data"
    },
    {
     "data": {
      "text/latex": [
       "$\\displaystyle \\frac{1}{n^{2}}(n(\\pi)\\sin(n(\\pi))+\\cos(n(\\pi))) - (\\frac{1}{n^{2}}(n(0)\\sin(n(0))+\\cos(n(0)))) = \\frac{-1+(-1)^{n}}{n^{2}}$"
      ],
      "text/plain": [
       "<IPython.core.display.Math object>"
      ]
     },
     "metadata": {},
     "output_type": "display_data"
    },
    {
     "data": {
      "text/latex": [
       "$\\displaystyle \\cdots $"
      ],
      "text/plain": [
       "<IPython.core.display.Math object>"
      ]
     },
     "metadata": {},
     "output_type": "display_data"
    },
    {
     "data": {
      "text/plain": [
       "['0', '\\\\frac{-1+(-1)^{n}}{n^{2}}']"
      ]
     },
     "execution_count": 32,
     "metadata": {},
     "output_type": "execute_result"
    }
   ],
   "source": [
    "an_terms = []\n",
    "i=0\n",
    "for function in request[\"functions\"]:\n",
    "    f = function[\"f\"]\n",
    "    d = function[\"d\"]\n",
    "    d_plus_T = function[\"d_plus_T\"]\n",
    "    integral__ = f\"\\\\int{{({f}) \\\\cdot cos(n \\\\cdot {omega} t) }}dt\"\n",
    "    # OBTENER EXPRESION INTEGRAL \n",
    "    an_integral_expr, steps = evaluate(integral__)\n",
    "    an_integral_expr = an_integral_expr.replace(\"+C\", \"\")\n",
    "    steps[\"comment\"] = \"Obtenemos la integral de $$a_n$$\"\n",
    "    global_steps.append(steps)\n",
    "\n",
    "    # OBTENER INTEGRAL DEFINIDA DEL RANGO\n",
    "    a = an_integral_expr.replace(\"t\", f\"({d_plus_T})\")\n",
    "    b = an_integral_expr.replace(\"t\", f\"({d})\")\n",
    "    an_dintegral_expr = f\"{a} - ({b})\"\n",
    "    an_dintegral, steps = evaluate(an_dintegral_expr)\n",
    "    \n",
    "    steps[\"comment\"] = f\"Obtenemos la integral definida de $$a_n$$ en el intervalo $${d} \\\\rightarrow {d_plus_T}$$\"\n",
    "    global_steps.append(steps)\n",
    "    an_terms.append(an_dintegral)\n",
    "    \n",
    "    display(Math(f\"{integral__} = {an_integral_expr}\"))\n",
    "    display(Math(f\"{an_dintegral_expr} = {an_dintegral}\"))\n",
    "    display(Math(\"\\cdots \"))\n",
    "\n",
    "    i+=1\n",
    "an_terms"
   ]
  },
  {
   "cell_type": "code",
   "execution_count": null,
   "metadata": {},
   "outputs": [],
   "source": [
    "{}"
   ]
  },
  {
   "cell_type": "code",
   "execution_count": 25,
   "metadata": {},
   "outputs": [
    {
     "data": {
      "text/plain": [
       "'\\\\\\\\int{(t) \\\\\\\\cdot cos(n \\\\\\\\cdot 1 t) }dt'"
      ]
     },
     "metadata": {},
     "output_type": "display_data"
    }
   ],
   "source": [
    "display(Math(r'\\\\int{(t) \\\\cdot cos(n \\\\cdot 1 t) }dt'))"
   ]
  },
  {
   "cell_type": "code",
   "execution_count": 18,
   "metadata": {},
   "outputs": [
    {
     "data": {
      "text/plain": [
       "('\\\\frac{1}{n^{2}}(nt\\\\sin(nt)+\\\\cos(nt))+C',\n",
       " {'step_input': '\\\\int t\\\\cos(n\\\\cdot 1\\\\cdot t)dt',\n",
       "  'entire_result': '=\\\\frac{1}{n^{2}}(nt\\\\sin(nt)+\\\\cos(nt))+C',\n",
       "  'solvingClass': 'Integrals',\n",
       "  'isInterimStep': True,\n",
       "  'isOpen': False,\n",
       "  'isShowSolutionAfterStep': False,\n",
       "  'title': {'text': {'createdText': '\\\\int (t)\\\\cos(n\\\\cdot 1\\\\cdot t)dt=\\\\frac{1}{n^{2}}(nt\\\\sin(nt)+\\\\cos(nt))+C'}},\n",
       "  'steps': [{'step_input': 't\\\\cos(n\\\\cdot 1\\\\cdot t)',\n",
       "    'step_output': 't\\\\cos(nt)',\n",
       "    'entire_result': '=\\\\int t\\\\cos(nt)dt',\n",
       "    'isInterimStep': False,\n",
       "    'isOpen': False,\n",
       "    'isShowSolutionAfterStep': False,\n",
       "    'title': {'text': {'createdText': '\\\\mathrm{Simplificar}'}}},\n",
       "   {'step_input': '\\\\int t\\\\cos(nt)dt',\n",
       "    'step_output': '\\\\int \\\\frac{u\\\\cos(u)}{n^{2}}du',\n",
       "    'entire_result': '=\\\\int \\\\frac{u\\\\cos(u)}{n^{2}}du',\n",
       "    'isInterimStep': False,\n",
       "    'isOpen': False,\n",
       "    'isShowSolutionAfterStep': False,\n",
       "    'steps': [{'interimType': '4OvFE//4flVAvx3ig0bUGNY5l+baRh9Fz7PKe618YX0=',\n",
       "      'isInterimStep': True,\n",
       "      'isOpen': False,\n",
       "      'isShowSolutionAfterStep': False,\n",
       "      'isLocked': True,\n",
       "      'title': {'text': {'createdText': '\\\\mathrm{Aplicar integración por sustitución:} u=nt'}},\n",
       "      'explanation': [{'createdText': '\\\\mathrm{Locked\\\\:Content}'}],\n",
       "      'practiceLink': '/practice/integration-practice#area=main&subtopic=Substitution',\n",
       "      'practiceTopic': 'Integral Substitution'}]},\n",
       "   {'step_input': '\\\\int \\\\frac{u\\\\cos(u)}{n^{2}}du',\n",
       "    'step_output': '\\\\frac{1}{n^{2}}\\\\int u\\\\cos(u)du',\n",
       "    'entire_result': '=\\\\frac{1}{n^{2}}\\\\cdot \\\\int u\\\\cos(u)du',\n",
       "    'isInterimStep': False,\n",
       "    'isOpen': False,\n",
       "    'isShowSolutionAfterStep': False,\n",
       "    'title': {'text': {'createdText': '\\\\mathrm{Sacar la constante}'}},\n",
       "    'general_rule': {'text': {'createdText': '\\\\int{a\\\\cdot{f(x)}dx}=a\\\\cdot\\\\int{f(x)dx}'}}},\n",
       "   {'step_input': '\\\\int u\\\\cos(u)du',\n",
       "    'step_output': 'u\\\\sin(u)-\\\\int \\\\sin(u)du',\n",
       "    'entire_result': '=\\\\frac{1}{n^{2}}(u\\\\sin(u)-\\\\int \\\\sin(u)du)',\n",
       "    'isInterimStep': False,\n",
       "    'isOpen': False,\n",
       "    'isShowSolutionAfterStep': False,\n",
       "    'steps': [{'interimType': 'NsBjkja0MImRekfYY9hW0W588kq/EQbH5Skgk5mFSo8=',\n",
       "      'isInterimStep': True,\n",
       "      'isOpen': False,\n",
       "      'isShowSolutionAfterStep': False,\n",
       "      'isLocked': True,\n",
       "      'title': {'text': {'createdText': \"\\\\mathrm{Aplicar integración por partes:} u=u, v'=\\\\cos(u)\"}},\n",
       "      'explanation': [{'createdText': '\\\\mathrm{Locked\\\\:Content}'}],\n",
       "      'practiceLink': '/practice/integration-practice#area=main&subtopic=Integration%20By%20Parts',\n",
       "      'practiceTopic': 'Integration by Parts'}]},\n",
       "   {'entire_result': '=\\\\frac{1}{n^{2}}(u\\\\sin(u)-(-\\\\cos(u)))',\n",
       "    'isInterimStep': False,\n",
       "    'isOpen': False,\n",
       "    'isShowSolutionAfterStep': False,\n",
       "    'steps': [{'entire_result': '=-\\\\cos(u)',\n",
       "      'solvingClass': 'Integrals',\n",
       "      'interimType': 'JeDKcpeaAIp7o0aGHEn1vA==',\n",
       "      'isInterimStep': True,\n",
       "      'isOpen': False,\n",
       "      'isShowSolutionAfterStep': False,\n",
       "      'isLocked': True,\n",
       "      'title': {'text': {'createdText': '\\\\int \\\\sin(u)du=-\\\\cos(u)'}},\n",
       "      'explanation': [{'createdText': '\\\\mathrm{Locked\\\\:Content}'}]}]},\n",
       "   {'entire_result': '=\\\\frac{1}{n^{2}}(nt\\\\sin(nt)-(-\\\\cos(nt)))',\n",
       "    'isInterimStep': False,\n",
       "    'isOpen': False,\n",
       "    'isShowSolutionAfterStep': False,\n",
       "    'explanation': [{'createdText': '\\\\mathrm{Sustituir en la ecuación} u=nt'}]},\n",
       "   {'step_input': '\\\\frac{1}{n^{2}}(nt\\\\sin(nt)-(-\\\\cos(nt)))',\n",
       "    'step_output': '\\\\frac{1}{n^{2}}(nt\\\\sin(nt)+\\\\cos(nt))',\n",
       "    'entire_result': '=\\\\frac{1}{n^{2}}(nt\\\\sin(nt)+\\\\cos(nt))',\n",
       "    'solvingClass': 'Solver',\n",
       "    'isInterimStep': False,\n",
       "    'isOpen': False,\n",
       "    'isShowSolutionAfterStep': False,\n",
       "    'title': {'text': {'createdText': '\\\\mathrm{Simplificar}'}}},\n",
       "   {'entire_result': '=\\\\frac{1}{n^{2}}(nt\\\\sin(nt)+\\\\cos(nt))+C',\n",
       "    'isInterimStep': False,\n",
       "    'isOpen': False,\n",
       "    'isShowSolutionAfterStep': False,\n",
       "    'title': {'text': {'createdText': '\\\\mathrm{Agregar una constante a la solución}'},\n",
       "     'extension': {'createdText': '\\\\mathrm{Si }\\\\frac{dF(x)}{dx}=f(x)\\\\mathrm{ entonces }\\\\int{f(x)}dx=F(x)+C'}}}],\n",
       "  'practiceLink': '/practice/integration-practice#area=main&subtopic=Integration%20By%20Parts',\n",
       "  'practiceTopic': 'Integration by Parts'})"
      ]
     },
     "execution_count": 18,
     "metadata": {},
     "output_type": "execute_result"
    }
   ],
   "source": [
    "evaluate(\"\\\\int{(t) \\\\cdot cos(n \\\\cdot 1 t) }dt\")"
   ]
  },
  {
   "cell_type": "code",
   "execution_count": 14,
   "metadata": {},
   "outputs": [
    {
     "data": {
      "text/plain": [
       "'π'"
      ]
     },
     "execution_count": 14,
     "metadata": {},
     "output_type": "execute_result"
    }
   ],
   "source": [
    "an, steps = evaluate(f\"\\\\frac{{ 2 }}{{ {T} }} \\cdot ({ '+'.join(an_terms) })\")\n",
    "steps[\"comment\"] = \"Obtenemos $$a_n$$ final\"\n",
    "global_steps.append(steps)\n",
    "an"
   ]
  },
  {
   "cell_type": "code",
   "execution_count": 16,
   "metadata": {},
   "outputs": [
    {
     "data": {
      "text/plain": [
       "{'step_input': '\\\\frac{2}{2π}(\\\\frac{π^{2}}{2}+\\\\frac{π^{2}}{2})',\n",
       " 'entire_result': '=π',\n",
       " 'solvingClass': 'Solver',\n",
       " 'isInterimStep': True,\n",
       " 'isOpen': False,\n",
       " 'isShowSolutionAfterStep': True,\n",
       " 'title': {'text': {'createdText': '\\\\frac{2}{2π}(\\\\frac{π^{2}}{2}+\\\\frac{π^{2}}{2})=π\\\\quad(\\\\mathrm{Decimal:{\\\\quad}} 3.14159…)'}},\n",
       " 'steps': [{'entire_result': '=\\\\frac{2}{2π}(π^{2})',\n",
       "   'interimType': 'XE1iKmEt3/0/LQQMkZkIj7l3y9p6bW205B5ITkaHZ3I=',\n",
       "   'isInterimStep': True,\n",
       "   'isOpen': False,\n",
       "   'isShowSolutionAfterStep': True,\n",
       "   'isLocked': True,\n",
       "   'title': {'text': {'createdText': '\\\\mathrm{Combinar las fracciones usando el mínimo común denominador}:{\\\\quad}π^{2}'}},\n",
       "   'explanation': [{'createdText': '\\\\mathrm{Locked\\\\:Content}'}]},\n",
       "  {'entire_result': '=\\\\frac{2}{2π}π^{2}',\n",
       "   'isInterimStep': False,\n",
       "   'isOpen': False,\n",
       "   'isShowSolutionAfterStep': False,\n",
       "   'title': {'text': {'createdText': '\\\\mathrm{Quitar los parentesis}'}},\n",
       "   'general_rule': {'text': {'createdText': '(a)=a'}}},\n",
       "  {'entire_result': '=\\\\frac{2π^{2}}{2π}',\n",
       "   'isInterimStep': False,\n",
       "   'isOpen': False,\n",
       "   'isShowSolutionAfterStep': False,\n",
       "   'title': {'text': {'createdText': '\\\\mathrm{Multiplicar fracciones}'}},\n",
       "   'general_rule': {'text': {'createdText': 'a\\\\cdot\\\\frac{b}{c}=\\\\frac{a \\\\cdot b}{c}'}}},\n",
       "  {'entire_result': '=\\\\frac{π^{2}}{π}',\n",
       "   'isInterimStep': False,\n",
       "   'isOpen': False,\n",
       "   'isShowSolutionAfterStep': False,\n",
       "   'explanation': [{'createdText': '\\\\mathrm{Eliminar los terminos comunes:} 2'}]},\n",
       "  {'entire_result': '=π',\n",
       "   'isInterimStep': False,\n",
       "   'isOpen': False,\n",
       "   'isShowSolutionAfterStep': False,\n",
       "   'explanation': [{'createdText': '\\\\mathrm{Eliminar los terminos comunes:} π'}]}],\n",
       " 'comment': 'Obtenemos $$a_n$$ final'}"
      ]
     },
     "execution_count": 16,
     "metadata": {},
     "output_type": "execute_result"
    }
   ],
   "source": [
    "steps"
   ]
  },
  {
   "cell_type": "markdown",
   "metadata": {},
   "source": [
    "#### Get bn"
   ]
  },
  {
   "cell_type": "code",
   "execution_count": 13,
   "metadata": {},
   "outputs": [],
   "source": [
    "bn_integral_expr, steps = evaluate(f\"\\\\int{{({f}) \\\\cdot sin(n \\\\cdot {omega} t) }}dt\")\n",
    "bn_integral_expr = bn_integral_expr.replace(\"+C\", \"\")\n",
    "steps[\"comment\"] = \"Obtenemos la integral de $$b_n$$\"\n",
    "global_steps.append(steps)"
   ]
  },
  {
   "cell_type": "code",
   "execution_count": 14,
   "metadata": {},
   "outputs": [],
   "source": [
    "a = bn_integral_expr.replace(\"t\", f\"({d_plus_T})\")\n",
    "b = bn_integral_expr.replace(\"t\", f\"({d})\")\n",
    "bn_dintegral_expr = f\"{a} - ({b})\"\n",
    "bn_dintegral, steps = evaluate(bn_dintegral_expr)\n",
    "steps[\"comment\"] = f\"Obtenemos la integral definida de $$b_n$$ en el intervalo $${d} \\\\rightarrow {d_plus_T}$$\"\n",
    "global_steps.append(steps)"
   ]
  },
  {
   "cell_type": "code",
   "execution_count": 15,
   "metadata": {},
   "outputs": [],
   "source": [
    "bn, steps = evaluate(f\"\\\\frac{{ 2 }}{{ {T} }} \\cdot {bn_dintegral}\")\n",
    "steps[\"comment\"] = \"Obtenemos $$b_n$$ final\"\n",
    "global_steps.append(steps)"
   ]
  },
  {
   "cell_type": "code",
   "execution_count": 16,
   "metadata": {},
   "outputs": [],
   "source": [
    "termino1_expr = f\"\\\\frac{{1}}{{2}}\\cdot {a0}\"\n",
    "termino1, steps = evaluate(termino1_expr)\n",
    "\n",
    "steps[\"comment\"] = \"Simplificamos\"\n",
    "global_steps.append(steps)\n",
    "\n",
    "termino2_expr = f\" {an} \\\\cdot cos(n\\\\omega t)\"\n",
    "termino2, steps = evaluate(termino2_expr)\n",
    "steps[\"comment\"] = \"Simplificamos\"\n",
    "global_steps.append(steps)\n",
    "termino3_expr = f\" {bn} sin(n \\\\omega t)\"\n",
    "termino3, steps = evaluate(termino3_expr)\n",
    "steps[\"comment\"] = \"Simplificamos\"\n",
    "global_steps.append(steps)"
   ]
  },
  {
   "cell_type": "code",
   "execution_count": 17,
   "metadata": {},
   "outputs": [
    {
     "data": {
      "text/plain": [
       "{'comment': 'Resultado: ',\n",
       " 'entire_result': '\\\\displaystyle0+\\\\sum_{n=1}^{\\\\infty}\\\\left(0+-\\\\frac{2(-1)^{n}\\\\sin(ωnt)}{n}\\\\right)'}"
      ]
     },
     "execution_count": 17,
     "metadata": {},
     "output_type": "execute_result"
    }
   ],
   "source": [
    "# construct fourier response\n",
    "fourier_response = {\n",
    "    \"comment\": \"Resultado: \",\n",
    "    \"entire_result\": f\"\\\\displaystyle{termino1}+\\\\sum_{{n=1}}^{{\\\\infty}}\\\\left({termino2}+{termino3}\\\\right)\",\n",
    "}\n",
    "global_steps.append(fourier_response)\n",
    "fourier_response"
   ]
  },
  {
   "cell_type": "code",
   "execution_count": null,
   "metadata": {},
   "outputs": [],
   "source": []
  }
 ],
 "metadata": {
  "interpreter": {
   "hash": "aee8b7b246df8f9039afb4144a1f6fd8d2ca17a180786b69acc140d282b71a49"
  },
  "kernelspec": {
   "display_name": "Python 3.10.0 64-bit",
   "name": "python3"
  },
  "language_info": {
   "codemirror_mode": {
    "name": "ipython",
    "version": 3
   },
   "file_extension": ".py",
   "mimetype": "text/x-python",
   "name": "python",
   "nbconvert_exporter": "python",
   "pygments_lexer": "ipython3",
   "version": "3.10.0"
  },
  "orig_nbformat": 4
 },
 "nbformat": 4,
 "nbformat_minor": 2
}
