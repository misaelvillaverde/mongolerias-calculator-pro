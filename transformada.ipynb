{
 "cells": [
  {
   "cell_type": "code",
   "execution_count": 2,
   "metadata": {},
   "outputs": [],
   "source": [
    "import requests\n",
    "import json\n",
    "from IPython.display import display, Math, Latex\n",
    "\n",
    "def evaluate(expression):\n",
    "    expression = expression.replace(\"+\",\"%2b\")\n",
    "    session = requests.session()\n",
    "    token = session.get(\"https://es.symbolab.com/solver/step-by-step/x%5E%7B2%7D?or=input\").cookies.get_dict()[\"sy2.pub.token\"]\n",
    "    response = json.loads(session.get(f\"https://es.symbolab.com/pub_api/steps?subscribed=true&origin=input&language=es&query={expression}\",headers={\n",
    "        \"x-requested-with\":\"XMLHttpRequest\",\n",
    "        \"authorization\":f\"Bearer {token}\"\n",
    "    }).content)\n",
    "    return (response[\"solutions\"][len(response[\"solutions\"])-1][\"entire_result\"].replace(\"=\",\"\"),response[\"solutions\"][0])"
   ]
  },
  {
   "cell_type": "markdown",
   "metadata": {},
   "source": [
    "# Sent a Group of Requests"
   ]
  },
  {
   "cell_type": "code",
   "execution_count": 3,
   "metadata": {},
   "outputs": [],
   "source": [
    "global_steps = []"
   ]
  },
  {
   "cell_type": "markdown",
   "metadata": {},
   "source": [
    "## Fourier Transform"
   ]
  },
  {
   "cell_type": "code",
   "execution_count": 4,
   "metadata": {},
   "outputs": [],
   "source": [
    "T =\"2\\\\pi\"\n",
    "omega,steps = evaluate(f\"\\\\frac{{ 2\\\\pi }}{{ {T} }}\")\n",
    "\n",
    "request = {\n",
    "    \"functions\":[\n",
    "        {\n",
    "            \"f\":\"1\",\n",
    "            \"d\":\"-a\",\n",
    "            \"d_plus_T\":\"a\"\n",
    "        },\n",
    "        {\n",
    "            \"f\":\"0\",\n",
    "            \"d\":\"-\\\\infty\",\n",
    "            \"d_plus_T\":\"-a\"\n",
    "        }, \n",
    "        {\n",
    "            \"f\":\"0\",\n",
    "            \"d\":\"a\",\n",
    "            \"d_plus_T\":\"\\\\infty\"\n",
    "        }\n",
    "    ]\n",
    "}"
   ]
  },
  {
   "cell_type": "markdown",
   "metadata": {},
   "source": [
    "### Obtain the Fourier Transform using the Definition"
   ]
  },
  {
   "cell_type": "markdown",
   "metadata": {},
   "source": [
    "#### Evaluating the Indefinite & Definite Integral"
   ]
  },
  {
   "cell_type": "code",
   "execution_count": 5,
   "metadata": {},
   "outputs": [
    {
     "data": {
      "text/latex": [
       "$\\displaystyle \\int{ 1\\cdot e^{-j \\cdot \\omega \\cdot t} }dt = -\\frac{1}{ωj}e^{-ωjt}+(0)$"
      ],
      "text/plain": [
       "<IPython.core.display.Math object>"
      ]
     },
     "metadata": {},
     "output_type": "display_data"
    },
    {
     "data": {
      "text/latex": [
       "$\\displaystyle -\\frac{1}{ωj}e^{-ωj(a)}+(0) - (-\\frac{1}{ωj}e^{-ωj(-a)}+(0)) = \\frac{-e^{-ajω}+e^{ajω}}{jω}$"
      ],
      "text/plain": [
       "<IPython.core.display.Math object>"
      ]
     },
     "metadata": {},
     "output_type": "display_data"
    },
    {
     "data": {
      "text/latex": [
       "$\\displaystyle \\cdots $"
      ],
      "text/plain": [
       "<IPython.core.display.Math object>"
      ]
     },
     "metadata": {},
     "output_type": "display_data"
    },
    {
     "data": {
      "text/latex": [
       "$\\displaystyle \\int{ 0\\cdot e^{-j \\cdot \\omega \\cdot t} }dt = (0)$"
      ],
      "text/plain": [
       "<IPython.core.display.Math object>"
      ]
     },
     "metadata": {},
     "output_type": "display_data"
    },
    {
     "data": {
      "text/latex": [
       "$\\displaystyle (0) - ((0)) = -0$"
      ],
      "text/plain": [
       "<IPython.core.display.Math object>"
      ]
     },
     "metadata": {},
     "output_type": "display_data"
    },
    {
     "data": {
      "text/latex": [
       "$\\displaystyle \\cdots $"
      ],
      "text/plain": [
       "<IPython.core.display.Math object>"
      ]
     },
     "metadata": {},
     "output_type": "display_data"
    },
    {
     "data": {
      "text/latex": [
       "$\\displaystyle \\int{ 0\\cdot e^{-j \\cdot \\omega \\cdot t} }dt = (0)$"
      ],
      "text/plain": [
       "<IPython.core.display.Math object>"
      ]
     },
     "metadata": {},
     "output_type": "display_data"
    },
    {
     "data": {
      "text/latex": [
       "$\\displaystyle (0) - ((0)) = -0$"
      ],
      "text/plain": [
       "<IPython.core.display.Math object>"
      ]
     },
     "metadata": {},
     "output_type": "display_data"
    },
    {
     "data": {
      "text/latex": [
       "$\\displaystyle \\cdots $"
      ],
      "text/plain": [
       "<IPython.core.display.Math object>"
      ]
     },
     "metadata": {},
     "output_type": "display_data"
    }
   ],
   "source": [
    "transform_terms = []\n",
    "\n",
    "for function in request[\"functions\"]:\n",
    "    f = function[\"f\"]\n",
    "    d = function[\"d\"]\n",
    "    d_plus_T = function[\"d_plus_T\"]\n",
    "    integral_transform, steps = evaluate(f\"\\\\int{{ {f}\\\\cdot e^{{-j \\\\cdot \\\\omega \\\\cdot t}} }}dt\")\n",
    "    integral_transform = integral_transform.replace(\"C\", \"(0)\")\n",
    "    display (Math(f\"\\\\int{{ {f}\\\\cdot e^{{-j \\\\cdot \\\\omega \\\\cdot t}} }}dt = {integral_transform}\"))\n",
    "    a = integral_transform.replace(\"t\", f\"({d_plus_T})\")\n",
    "    b = integral_transform.replace(\"t\", f\"({d})\")\n",
    "    dintegral_transform = f\"{a} - ({b})\"\n",
    "    dintegral_transform_solution, steps = evaluate(dintegral_transform)\n",
    "    global_steps.append(steps)\n",
    "    transform_terms.append(dintegral_transform_solution)\n",
    "    display(Math(f\"{dintegral_transform} = {dintegral_transform_solution}\"))\n",
    "    display(Math(\"\\cdots \"))"
   ]
  },
  {
   "cell_type": "markdown",
   "metadata": {},
   "source": [
    "#### Evaluating the Definite Integral"
   ]
  },
  {
   "cell_type": "code",
   "execution_count": 7,
   "metadata": {},
   "outputs": [
    {
     "data": {
      "text/latex": [
       "$\\displaystyle \\frac{-e^{-ajω}+e^{ajω}}{jω}$"
      ],
      "text/plain": [
       "<IPython.core.display.Math object>"
      ]
     },
     "metadata": {},
     "output_type": "display_data"
    }
   ],
   "source": [
    "transform_terms\n",
    "transformada,steps = evaluate(\"{\"+'+'.join(transform_terms)+\"}\")\n",
    "steps['comment'] = 'Resultado de la tranformada'\n",
    "global_steps.append(steps)\n",
    "display(Math(f\"{transformada}\"))"
   ]
  },
  {
   "cell_type": "code",
   "execution_count": null,
   "metadata": {},
   "outputs": [],
   "source": []
  }
 ],
 "metadata": {
  "interpreter": {
   "hash": "1c38390ad8badfd1aeddc26a2226a43702388ff44d2708fbbe03777970bf97e2"
  },
  "kernelspec": {
   "display_name": "Python 3.9.6 64-bit",
   "name": "python3"
  },
  "language_info": {
   "codemirror_mode": {
    "name": "ipython",
    "version": 3
   },
   "file_extension": ".py",
   "mimetype": "text/x-python",
   "name": "python",
   "nbconvert_exporter": "python",
   "pygments_lexer": "ipython3",
   "version": "3.9.7"
  },
  "orig_nbformat": 4
 },
 "nbformat": 4,
 "nbformat_minor": 2
}
